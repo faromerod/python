{
 "cells": [
  {
   "cell_type": "code",
   "execution_count": null,
   "metadata": {},
   "outputs": [
    {
     "name": "stdout",
     "output_type": "stream",
     "text": [
      "  Temporada Partidos Goles Asistencias    Tarjetas Minutos Jugados\n",
      "0     23/24       28     -           2   6 / - / -          2.157'\n",
      "1     22/23       37     -           1  11 / - / -          2.948'\n",
      "2     19/20       24     -           1   7 / - / -          2.061'\n",
      "3     18/19       25     1           1   5 / - / 1          2.073'\n",
      "4     17/18       27     1           3   6 / - / -          2.068'\n",
      "Archivo CSV guardado en: c:\\Users\\facur\\AppData\\Local\\Programs\\Microsoft VS Code\\adamsmith_stats_premier_league.csv\n"
     ]
    }
   ],
   "source": [
    "import requests\n",
    "from bs4 import BeautifulSoup\n",
    "import pandas as pd\n",
    "\n",
    "# URL del jugador\n",
    "url = \"https://www.transfermarkt.es/adam-smith/leistungsdatendetails/spieler/61841\"\n",
    "\n",
    "# Encabezados para evitar bloqueos\n",
    "headers = {\n",
    "    \"User-Agent\": \"Mozilla/5.0 (Windows NT 10.0; Win64; x64) AppleWebKit/537.36 (KHTML, like Gecko) Chrome/114.0.0.0 Safari/537.36\"\n",
    "}\n",
    "\n",
    "# Realizar la solicitud\n",
    "response = requests.get(url, headers=headers)\n",
    "soup = BeautifulSoup(response.content, \"html.parser\")\n",
    "\n",
    "# Encontrar la tabla de datos\n",
    "table = soup.find(\"table\", class_=\"items\")\n",
    "\n",
    "# Validar que la tabla fue encontrada\n",
    "if not table:\n",
    "    print(\"No se pudo encontrar la tabla de datos.\")\n",
    "    exit()\n",
    "\n",
    "# Extraer las filas de la tabla\n",
    "rows = table.find_all(\"tr\", class_=[\"odd\", \"even\"])\n",
    "\n",
    "# Datos a extraer\n",
    "data = []\n",
    "for row in rows:\n",
    "    cells = row.find_all(\"td\")\n",
    "    if len(cells) >= 9:  # Validar que hay suficientes columnas\n",
    "        season = cells[0].text.strip()\n",
    "        competition = cells[2].text.strip()  # Columna de la competición\n",
    "        if \"17/18\" <= season <= \"23/24\" and competition == \"Premier League\":\n",
    "            match_data = {\n",
    "                \"Temporada\": season,\n",
    "                \"Partidos\": cells[4].text.strip() if len(cells) > 4 else \"0\",\n",
    "                \"Goles\": cells[5].text.strip() if len(cells) > 5 else \"0\",\n",
    "                \"Asistencias\": cells[6].text.strip() if len(cells) > 6 else \"0\",\n",
    "                \"Tarjetas\": cells[7].text.strip() if len(cells) > 7 else \"0\",\n",
    "                \"Minutos Jugados\": cells[8].text.strip() if len(cells) > 8 else \"0\"\n",
    "            }\n",
    "            data.append(match_data)\n",
    "\n",
    "# Crear un DataFrame\n",
    "columns = [\"Temporada\", \"Partidos\", \"Goles\", \"Asistencias\", \"Tarjetas\", \"Minutos Jugados\"]\n",
    "df = pd.DataFrame(data, columns=columns)\n",
    "\n",
    "# Mostrar los datos extraídos\n",
    "print(df)\n",
    "\n",
    "# Guardar en un archivo CSV\n",
    "df.to_csv(\"jorginho_stats_premier_league.csv\", index=False)\n",
    "import os\n",
    "\n",
    "# Guardar en el archivo CSV\n",
    "output_path = os.path.join(os.getcwd(), \"adamsmith_stats_premier_league.csv\")  # Ruta absoluta\n",
    "df.to_csv(output_path, index=False)\n",
    "\n",
    "# Confirmar que el archivo se guardó\n",
    "print(f\"Archivo CSV guardado en: {output_path}\")\n",
    "\n"
   ]
  }
 ],
 "metadata": {
  "kernelspec": {
   "display_name": "Python 3",
   "language": "python",
   "name": "python3"
  },
  "language_info": {
   "codemirror_mode": {
    "name": "ipython",
    "version": 3
   },
   "file_extension": ".py",
   "mimetype": "text/x-python",
   "name": "python",
   "nbconvert_exporter": "python",
   "pygments_lexer": "ipython3",
   "version": "3.12.8"
  }
 },
 "nbformat": 4,
 "nbformat_minor": 2
}
